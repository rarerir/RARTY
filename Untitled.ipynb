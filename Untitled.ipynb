{
 "cells": [
  {
   "cell_type": "code",
   "execution_count": 9,
   "id": "6f235862-d9dd-4d7c-a3ec-e28ffc2c304b",
   "metadata": {},
   "outputs": [
    {
     "data": {
      "text/plain": [
       "0       0\n",
       "1       0\n",
       "2       0\n",
       "3       0\n",
       "4       0\n",
       "       ..\n",
       "7327    0\n",
       "7328    0\n",
       "7329    0\n",
       "7330    0\n",
       "7331    0\n",
       "Name: score, Length: 7332, dtype: int64"
      ]
     },
     "execution_count": 9,
     "metadata": {},
     "output_type": "execute_result"
    }
   ],
   "source": [
    "import pandas as pd\n",
    "from sklearn.tree import DecisionTreeClassifier\n",
    "sub = pd.read_csv(\"submission.csv\")\n",
    "x = pd.read_csv(\"train_X.csv\")\n",
    "sub\n",
    "y = sub[\"score\"]\n",
    "y\n",
    "# model = DecisionTreeClassifier()\n",
    "# model.fir(x, y)"
   ]
  },
  {
   "cell_type": "code",
   "execution_count": null,
   "id": "35dfd0a7-cfbb-461c-a14b-1516a67e1404",
   "metadata": {},
   "outputs": [],
   "source": []
  }
 ],
 "metadata": {
  "kernelspec": {
   "display_name": "Python 3 (ipykernel)",
   "language": "python",
   "name": "python3"
  },
  "language_info": {
   "codemirror_mode": {
    "name": "ipython",
    "version": 3
   },
   "file_extension": ".py",
   "mimetype": "text/x-python",
   "name": "python",
   "nbconvert_exporter": "python",
   "pygments_lexer": "ipython3",
   "version": "3.12.4"
  }
 },
 "nbformat": 4,
 "nbformat_minor": 5
}
